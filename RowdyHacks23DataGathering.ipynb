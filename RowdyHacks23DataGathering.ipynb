{
  "nbformat": 4,
  "nbformat_minor": 0,
  "metadata": {
    "colab": {
      "provenance": [],
      "authorship_tag": "ABX9TyPFTqn0ADHMAPyQZpRMYGrE",
      "include_colab_link": true
    },
    "kernelspec": {
      "name": "python3",
      "display_name": "Python 3"
    },
    "language_info": {
      "name": "python"
    }
  },
  "cells": [
    {
      "cell_type": "markdown",
      "metadata": {
        "id": "view-in-github",
        "colab_type": "text"
      },
      "source": [
        "<a href=\"https://colab.research.google.com/github/Chrisiscool3/RowdyHax23/blob/main/RowdyHacks23DataGathering.ipynb\" target=\"_parent\"><img src=\"https://colab.research.google.com/assets/colab-badge.svg\" alt=\"Open In Colab\"/></a>"
      ]
    },
    {
      "cell_type": "markdown",
      "source": [
        "##Package Installs"
      ],
      "metadata": {
        "id": "gytsBrOCzd1I"
      }
    },
    {
      "cell_type": "code",
      "execution_count": null,
      "metadata": {
        "colab": {
          "base_uri": "https://localhost:8080/"
        },
        "id": "AP-d6LoWzl3f",
        "outputId": "61f2f25b-b4ec-42de-ad75-f794b7f79482"
      },
      "outputs": [
        {
          "output_type": "stream",
          "name": "stdout",
          "text": [
            "Looking in indexes: https://pypi.org/simple, https://us-python.pkg.dev/colab-wheels/public/simple/\n",
            "Collecting recipe-scrapers\n",
            "  Downloading recipe_scrapers-14.35.0-py3-none-any.whl (161 kB)\n",
            "\u001b[2K     \u001b[90m━━━━━━━━━━━━━━━━━━━━━━━━━━━━━━━━━━━━━━━\u001b[0m \u001b[32m161.3/161.3 KB\u001b[0m \u001b[31m7.0 MB/s\u001b[0m eta \u001b[36m0:00:00\u001b[0m\n",
            "\u001b[?25hCollecting isodate>=0.6.1\n",
            "  Downloading isodate-0.6.1-py2.py3-none-any.whl (41 kB)\n",
            "\u001b[2K     \u001b[90m━━━━━━━━━━━━━━━━━━━━━━━━━━━━━━━━━━━━━━━━\u001b[0m \u001b[32m41.7/41.7 KB\u001b[0m \u001b[31m3.6 MB/s\u001b[0m eta \u001b[36m0:00:00\u001b[0m\n",
            "\u001b[?25hRequirement already satisfied: requests>=2.19.1 in /usr/local/lib/python3.9/dist-packages (from recipe-scrapers) (2.27.1)\n",
            "Requirement already satisfied: beautifulsoup4>=4.10.0 in /usr/local/lib/python3.9/dist-packages (from recipe-scrapers) (4.11.2)\n",
            "Collecting extruct>=0.8.0\n",
            "  Downloading extruct-0.14.0-py2.py3-none-any.whl (25 kB)\n",
            "Requirement already satisfied: soupsieve>1.2 in /usr/local/lib/python3.9/dist-packages (from beautifulsoup4>=4.10.0->recipe-scrapers) (2.4)\n",
            "Requirement already satisfied: six in /usr/local/lib/python3.9/dist-packages (from extruct>=0.8.0->recipe-scrapers) (1.16.0)\n",
            "Collecting mf2py\n",
            "  Downloading mf2py-1.1.2.tar.gz (25 kB)\n",
            "  Preparing metadata (setup.py) ... \u001b[?25l\u001b[?25hdone\n",
            "Collecting w3lib\n",
            "  Downloading w3lib-2.1.1-py3-none-any.whl (21 kB)\n",
            "Collecting rdflib>=6.0.0\n",
            "  Downloading rdflib-6.3.1-py3-none-any.whl (527 kB)\n",
            "\u001b[2K     \u001b[90m━━━━━━━━━━━━━━━━━━━━━━━━━━━━━━━━━━━━━━\u001b[0m \u001b[32m527.0/527.0 KB\u001b[0m \u001b[31m23.1 MB/s\u001b[0m eta \u001b[36m0:00:00\u001b[0m\n",
            "\u001b[?25hCollecting pyrdfa3\n",
            "  Downloading pyRdfa3-3.5.3-py3-none-any.whl (121 kB)\n",
            "\u001b[2K     \u001b[90m━━━━━━━━━━━━━━━━━━━━━━━━━━━━━━━━━━━━━━━\u001b[0m \u001b[32m121.9/121.9 KB\u001b[0m \u001b[31m7.3 MB/s\u001b[0m eta \u001b[36m0:00:00\u001b[0m\n",
            "\u001b[?25hCollecting jstyleson\n",
            "  Downloading jstyleson-0.0.2.tar.gz (2.0 kB)\n",
            "  Preparing metadata (setup.py) ... \u001b[?25l\u001b[?25hdone\n",
            "Requirement already satisfied: lxml in /usr/local/lib/python3.9/dist-packages (from extruct>=0.8.0->recipe-scrapers) (4.9.2)\n",
            "Collecting html-text>=0.5.1\n",
            "  Downloading html_text-0.5.2-py2.py3-none-any.whl (7.5 kB)\n",
            "Requirement already satisfied: charset-normalizer~=2.0.0 in /usr/local/lib/python3.9/dist-packages (from requests>=2.19.1->recipe-scrapers) (2.0.12)\n",
            "Requirement already satisfied: idna<4,>=2.5 in /usr/local/lib/python3.9/dist-packages (from requests>=2.19.1->recipe-scrapers) (3.4)\n",
            "Requirement already satisfied: certifi>=2017.4.17 in /usr/local/lib/python3.9/dist-packages (from requests>=2.19.1->recipe-scrapers) (2022.12.7)\n",
            "Requirement already satisfied: urllib3<1.27,>=1.21.1 in /usr/local/lib/python3.9/dist-packages (from requests>=2.19.1->recipe-scrapers) (1.26.15)\n",
            "Requirement already satisfied: pyparsing<4,>=2.1.0 in /usr/local/lib/python3.9/dist-packages (from rdflib>=6.0.0->extruct>=0.8.0->recipe-scrapers) (3.0.9)\n",
            "Requirement already satisfied: html5lib>=1.0.1 in /usr/local/lib/python3.9/dist-packages (from mf2py->extruct>=0.8.0->recipe-scrapers) (1.1)\n",
            "Requirement already satisfied: webencodings in /usr/local/lib/python3.9/dist-packages (from html5lib>=1.0.1->mf2py->extruct>=0.8.0->recipe-scrapers) (0.5.1)\n",
            "Building wheels for collected packages: jstyleson, mf2py\n",
            "  Building wheel for jstyleson (setup.py) ... \u001b[?25l\u001b[?25hdone\n",
            "  Created wheel for jstyleson: filename=jstyleson-0.0.2-py3-none-any.whl size=2398 sha256=89f58b19682031e69ab7dd91eb35ba90c2956bbbce9796d62c3b8c1ac5bdb8ab\n",
            "  Stored in directory: /root/.cache/pip/wheels/d4/2a/06/11202ea86be0f51f34e9411d691e25b991d188d93ab4d3e551\n",
            "  Building wheel for mf2py (setup.py) ... \u001b[?25l\u001b[?25hdone\n",
            "  Created wheel for mf2py: filename=mf2py-1.1.2-py3-none-any.whl size=23242 sha256=a48d9b6bb1da6b0ebc6b6038d1f4c74413de11d40d02c8c446752bca0a43e323\n",
            "  Stored in directory: /root/.cache/pip/wheels/7e/da/ba/d7ec17062327397403fd65f260c0464f42a7bbc14bf227ff56\n",
            "Successfully built jstyleson mf2py\n",
            "Installing collected packages: jstyleson, w3lib, isodate, html-text, rdflib, mf2py, pyrdfa3, extruct, recipe-scrapers\n",
            "Successfully installed extruct-0.14.0 html-text-0.5.2 isodate-0.6.1 jstyleson-0.0.2 mf2py-1.1.2 pyrdfa3-3.5.3 rdflib-6.3.1 recipe-scrapers-14.35.0 w3lib-2.1.1\n"
          ]
        }
      ],
      "source": [
        "pip install recipe-scrapers"
      ]
    },
    {
      "cell_type": "markdown",
      "source": [
        "##Imports"
      ],
      "metadata": {
        "id": "8WCN-C9FzirL"
      }
    },
    {
      "cell_type": "code",
      "source": [
        "from recipe_scrapers import scrape_me\n",
        "import json\n",
        "import os\n",
        "import requests"
      ],
      "metadata": {
        "id": "0Q0EXNII2e0r"
      },
      "execution_count": 167,
      "outputs": []
    },
    {
      "cell_type": "markdown",
      "source": [
        "##Webscraping for data"
      ],
      "metadata": {
        "id": "-KoTpHkKzlPC"
      }
    },
    {
      "cell_type": "code",
      "source": [
        "scraper = scrape_me('https://www.budgetbytes.com/ham-cheese-biscuits/')\n",
        "\n",
        "myjson = scraper.nutrients()\n",
        "myjson = {scraper.title(): myjson}\n",
        "\n",
        "jsonOutfile = json.dumps(myjson, indent=len(scraper.nutrients()))\n",
        "\n",
        "with open(\"nutrients.json\", \"w\") as outfile:\n",
        "    outfile.write(jsonOutfile)"
      ],
      "metadata": {
        "id": "VNDUxXXQFXoS"
      },
      "execution_count": 166,
      "outputs": []
    },
    {
      "cell_type": "code",
      "source": [
        "scraper = scrape_me('https://www.budgetbytes.com/southwest-tortilla-baked-eggs/')# Get the image URL and download the image\n",
        "image_url = scraper.image()\n",
        "response = requests.get(image_url)\n",
        "with open(\"southwest-tortilla-baked-eggs\", \"wb\") as f:\n",
        "    f.write(response.content)\n"
      ],
      "metadata": {
        "id": "SBm9lWjk8Mbl"
      },
      "execution_count": 170,
      "outputs": []
    },
    {
      "cell_type": "markdown",
      "source": [
        "##Nutritional Values for Lunch Recipes"
      ],
      "metadata": {
        "id": "M32BEKiZzP8U"
      }
    },
    {
      "cell_type": "code",
      "source": [
        "with open('lunch.json') as data_file:    \n",
        "    data = json.load(data_file)\n",
        "\n",
        "lunchData = []\n",
        "\n",
        "for key in data:\n",
        "  for entry in data['lunch']:\n",
        "    if list(entry)[0] == 'Cottage Cheese Crab Bowl':#REPLACE WITH MODULAR CODE\n",
        "      lunchData.append(entry)\n",
        "\n",
        "for macro in lunchData[0]:\n",
        "  for keys in lunchData[0][macro]:\n",
        "    print(lunchData[0][macro][keys])"
      ],
      "metadata": {
        "colab": {
          "base_uri": "https://localhost:8080/"
        },
        "id": "NaxlFYycrU6A",
        "outputId": "ec8c427a-7881-4c7e-b1bd-8ccbb71412a3"
      },
      "execution_count": 163,
      "outputs": [
        {
          "output_type": "stream",
          "name": "stdout",
          "text": [
            "1 bowl\n",
            "149.2 kcal\n",
            "15.4 g\n",
            "15.7 g\n",
            "2.8 g\n",
            "0.8 g\n",
            "710.4 mg\n"
          ]
        }
      ]
    },
    {
      "cell_type": "markdown",
      "source": [
        "##Nutritional Values for Dinner Recipes"
      ],
      "metadata": {
        "id": "H7iUtEH9zVSp"
      }
    },
    {
      "cell_type": "code",
      "source": [
        "with open('dinner.json') as data_file:    \n",
        "    data = json.load(data_file)\n",
        "\n",
        "dinnerData = []\n",
        "\n",
        "for key in data:\n",
        "  for entry in data['dinner']:\n",
        "    if list(entry)[0] == 'One Pot Chicken and Rice':#REPLACE WITH MODULAR CODE\n",
        "      dinnerData.append(entry)\n",
        "\n",
        "for macro in dinnerData[0]:\n",
        "  for keys in dinnerData[0][macro]:\n",
        "    print(dinnerData[0][macro][keys])"
      ],
      "metadata": {
        "colab": {
          "base_uri": "https://localhost:8080/"
        },
        "id": "2w2PAjmoUbEr",
        "outputId": "0cac48cc-6374-423f-8323-7b43c514a257"
      },
      "execution_count": 165,
      "outputs": [
        {
          "output_type": "stream",
          "name": "stdout",
          "text": [
            "1 serving\n",
            "421 kcal\n",
            "42 g\n",
            "31 g\n",
            "13 g\n",
            "688 mg\n",
            "2 g\n"
          ]
        }
      ]
    },
    {
      "cell_type": "markdown",
      "source": [
        "##Nutritional Values for Breakfast Recipes"
      ],
      "metadata": {
        "id": "muCp2LgxzYkx"
      }
    },
    {
      "cell_type": "code",
      "source": [
        "with open('breakfast.json') as data_file:    \n",
        "    data = json.load(data_file)\n",
        "\n",
        "breakfastData = []\n",
        "\n",
        "for key in data:\n",
        "  for entry in data['breakfast']:\n",
        "    if list(entry)[0] == 'Banana Bread Baked Oatmeal':#REPLACE WITH MODULAR CODE\n",
        "      breakfastData.append(entry)\n",
        "\n",
        "for macro in breakfastData[0]:\n",
        "  for keys in breakfastData[0][macro]:\n",
        "    print(breakfastData[0][macro][keys])"
      ],
      "metadata": {
        "colab": {
          "base_uri": "https://localhost:8080/"
        },
        "id": "iSTQ86_OmMAY",
        "outputId": "f5674dae-ffd7-4277-beab-8983bee9313e"
      },
      "execution_count": 168,
      "outputs": [
        {
          "output_type": "stream",
          "name": "stdout",
          "text": [
            "1 serving\n",
            "367.87 kcal\n",
            "54.22 g\n",
            "11.4 g\n",
            "13.28 g\n",
            "324.97 mg\n",
            "5.7 g\n"
          ]
        }
      ]
    }
  ]
}